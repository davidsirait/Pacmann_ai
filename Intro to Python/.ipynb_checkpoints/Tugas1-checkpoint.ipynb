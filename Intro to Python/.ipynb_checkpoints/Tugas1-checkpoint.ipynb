{
 "cells": [
  {
   "cell_type": "markdown",
   "metadata": {
    "colab_type": "text",
    "id": "UD0Rk7K2Td8e"
   },
   "source": [
    "# Tugas Python 1\n",
    "\n",
    "* Silakan download dan kerjakan soal berikut dimanapun (laptop pribadi/google colab/etc.)\n",
    "* Setelah selesai mengerjakan, upload file ini di tempat yang telah disediakan pada platform.\n",
    "* Beri nama file seperti berikut: {username}-python-1.ipynb\n",
    "* Contoh: testing-1123-python-1.ipynb\n",
    "* Username dapat dilihat di dalam akun anda.\n",
    "* Mohon **jangan mengubah** nama variabel yang telah diberikan.\n",
    "* Namun anda diperbolehkan untuk menambah variabel apapun.\n",
    "* Tutorial cara pengerjaan dapat dilihat [disini](https://discourse.pacmann.ai/t/pengumuman-video-tutorial/484).\n",
    "---"
   ]
  },
  {
   "cell_type": "markdown",
   "metadata": {
    "colab_type": "text",
    "id": "bZqvb9DZTd8f"
   },
   "source": [
    "1. Hitunglah $5+5$"
   ]
  },
  {
   "cell_type": "code",
   "execution_count": 1,
   "metadata": {
    "colab": {},
    "colab_type": "code",
    "id": "KKzA6UEKTd8g"
   },
   "outputs": [],
   "source": [
    "jawaban_1 = #Tulis jawaban akhir disini"
   ]
  },
  {
   "cell_type": "markdown",
   "metadata": {
    "colab_type": "text",
    "id": "qUsiPFjiTd8j"
   },
   "source": [
    "2. Hitunglah $2^{10}$"
   ]
  },
  {
   "cell_type": "code",
   "execution_count": 2,
   "metadata": {
    "colab": {},
    "colab_type": "code",
    "id": "2lQTcQrmTd8j"
   },
   "outputs": [],
   "source": [
    "jawaban_2 = #Tulis jawaban akhir disini"
   ]
  },
  {
   "cell_type": "markdown",
   "metadata": {
    "colab_type": "text",
    "id": "dOgmA3iGTd8m"
   },
   "source": [
    "3. Buatlah sebuah string yang berisi nama anda."
   ]
  },
  {
   "cell_type": "code",
   "execution_count": null,
   "metadata": {
    "colab": {},
    "colab_type": "code",
    "id": "Ofw9XYYGTd8m"
   },
   "outputs": [],
   "source": [
    "jawaban_3 = #Tulis jawaban akhir disini"
   ]
  },
  {
   "cell_type": "markdown",
   "metadata": {
    "colab_type": "text",
    "id": "jLxNgetuTd8p"
   },
   "source": [
    "4. Ubahlah string berikut menjadi sebuah nilai integer"
   ]
  },
  {
   "cell_type": "code",
   "execution_count": null,
   "metadata": {
    "colab": {},
    "colab_type": "code",
    "id": "AYwO7Lu1Td8p"
   },
   "outputs": [],
   "source": [
    "angka = \"1945\"\n",
    "jawaban_4 = #Tulis jawaban akhir disini"
   ]
  },
  {
   "cell_type": "markdown",
   "metadata": {
    "colab_type": "text",
    "id": "HbytjGSkTd8s"
   },
   "source": [
    "5. Ubahlah float berikut menjadi sebuah string"
   ]
  },
  {
   "cell_type": "code",
   "execution_count": null,
   "metadata": {
    "colab": {},
    "colab_type": "code",
    "id": "UI5Nb1QBTd8t"
   },
   "outputs": [],
   "source": [
    "pi = 3.14159265359\n",
    "jawaban_5 = #Tulis jawaban akhir disini"
   ]
  },
  {
   "cell_type": "markdown",
   "metadata": {
    "colab_type": "text",
    "id": "Mco0ScDHTd8v"
   },
   "source": [
    "6. Ambillah karakter pertama dari string berikut"
   ]
  },
  {
   "cell_type": "code",
   "execution_count": null,
   "metadata": {
    "colab": {},
    "colab_type": "code",
    "id": "Lsf74LcjTd8w"
   },
   "outputs": [],
   "source": [
    "teks = \"pacmann\"\n",
    "jawaban_6 = #Tulis jawaban akhir disini"
   ]
  },
  {
   "cell_type": "markdown",
   "metadata": {
    "colab_type": "text",
    "id": "UN8sfJ6FTd8z"
   },
   "source": [
    "7. Ambillah karakter terakhir dari string berikut."
   ]
  },
  {
   "cell_type": "code",
   "execution_count": null,
   "metadata": {
    "colab": {},
    "colab_type": "code",
    "id": "8nN6pMipTd8z"
   },
   "outputs": [],
   "source": [
    "teks = \"pacmann\"\n",
    "jawaban_7 = #Tulis jawaban akhir disini"
   ]
  },
  {
   "cell_type": "markdown",
   "metadata": {
    "colab_type": "text",
    "id": "tsnO_q6MTd81"
   },
   "source": [
    "8. Ambillah 4 karakter pertama dari string berikut dengan menggunakan slicing!"
   ]
  },
  {
   "cell_type": "code",
   "execution_count": null,
   "metadata": {
    "colab": {},
    "colab_type": "code",
    "id": "hlYlO-aVTd82"
   },
   "outputs": [],
   "source": [
    "teks = \"bangunan\"\n",
    "jawaban_8 = #Tulis jawaban akhir disini"
   ]
  },
  {
   "cell_type": "markdown",
   "metadata": {
    "colab_type": "text",
    "id": "FVW1HaoFTd84"
   },
   "source": [
    "9. Tono memiliki 4 kelereng, Budi memiliki 5 kelereng. Berapakah total jumlah kelereng yang dimiliki mereka berdua?"
   ]
  },
  {
   "cell_type": "code",
   "execution_count": null,
   "metadata": {
    "colab": {},
    "colab_type": "code",
    "id": "DJEC0cAmTd84"
   },
   "outputs": [],
   "source": [
    "jawaban_9 = #Tulis jawaban akhir disini"
   ]
  },
  {
   "cell_type": "markdown",
   "metadata": {
    "colab_type": "text",
    "id": "WafMPZFjTd87"
   },
   "source": [
    "10. Budi memiliki 10 lemper, dan Budi membagikan 10 lemper yang dimilikinya kepada 5 orang temannya secara rata. Berapa lemper yang diterima oleh masing-masing teman budi?"
   ]
  },
  {
   "cell_type": "code",
   "execution_count": null,
   "metadata": {
    "colab": {},
    "colab_type": "code",
    "id": "MCvb-QrUTd87"
   },
   "outputs": [],
   "source": [
    "jawaban_10 = #Tulis jawaban akhir disini"
   ]
  },
  {
   "cell_type": "markdown",
   "metadata": {
    "colab_type": "text",
    "id": "hxbC4Cg8Td8-"
   },
   "source": [
    "11. Hitunglah nilai dari operasi matematik berikut $\\left(\\frac{3*8}{4}\\right) + (4*5)$"
   ]
  },
  {
   "cell_type": "code",
   "execution_count": null,
   "metadata": {
    "colab": {},
    "colab_type": "code",
    "id": "u5b4iBbgTd8_"
   },
   "outputs": [],
   "source": [
    "jawaban_11 = #Tulis jawaban akhir anda disini"
   ]
  },
  {
   "cell_type": "markdown",
   "metadata": {
    "colab_type": "text",
    "id": "X9lcVXdcTd9B"
   },
   "source": [
    "12. Lala sedang berbelanja barang di supermarket, dengan harga terlampir di bawah ini. Lala membeli 1 potong ayam, 4 ekor ikan kembung, 3 ikat kangkung, dan 2 botol susu. Lalu Lala mendapat diskon sebesar 25% dari total harga yang dibayarkan \n",
    "\n",
    "    Tuliskan biaya yang harus dibayar Adi sebagai operasi di bawah ini dan jalankan perhitungannya.\n",
    "\n",
    "| barang      | harga  |\n",
    "|-------------|--------|\n",
    "| ayam        | 20000  |\n",
    "| ikan kembung| 15000 |\n",
    "| sayur kangkung | 10000  |\n",
    "| susu        | 22000  |"
   ]
  },
  {
   "cell_type": "code",
   "execution_count": null,
   "metadata": {
    "colab": {},
    "colab_type": "code",
    "id": "px1m7D9NTd9C"
   },
   "outputs": [],
   "source": [
    "# Anda bisa menuliskan kode apapun disini\n",
    "\n",
    "jawaban_12 = #Tulis jawaban akhir anda disini"
   ]
  },
  {
   "cell_type": "markdown",
   "metadata": {
    "colab_type": "text",
    "id": "apXGBudnTd9E"
   },
   "source": [
    "13. Surti, remaja anak bapak kades dan si Tejo, jejaka yang baru saja mudik berencana untuk menikah 2 tahun dari sekarang. Jika biaya pernikahan dan resepsi di kampung mereka adalah 48.000.000, berapa uang yang harus ditabung mereka berdua per bulannya agar 2 tahun lagi mereka bisa menikah?\n",
    "\n",
    "    asumsi: tidak ada inflasi, dan semua harga selalu konstan."
   ]
  },
  {
   "cell_type": "code",
   "execution_count": null,
   "metadata": {
    "colab": {},
    "colab_type": "code",
    "id": "SJZeQlRGTd9E"
   },
   "outputs": [],
   "source": [
    "# kode anda\n",
    "jawaban_13 = #Tulis jawaban akhir anda disini"
   ]
  },
  {
   "cell_type": "markdown",
   "metadata": {
    "colab_type": "text",
    "id": "t6zq8ndETd9G"
   },
   "source": [
    "14. Sebuah bioskop ingin memutar film dan menampilkan judul film tersebut di website mereka. Namun judul film tersebut semuanya memakai huruf kecil. Bantulah bioskop tersebut\n",
    "\n",
    "Hint: Pakai method di dalam string"
   ]
  },
  {
   "cell_type": "code",
   "execution_count": null,
   "metadata": {
    "colab": {},
    "colab_type": "code",
    "id": "QppBED31Td9H"
   },
   "outputs": [],
   "source": [
    "judul = 'the lord of the rings: the return of the king'\n",
    "jawaban_14 = #Tulis jawaban akhir anda disini"
   ]
  },
  {
   "cell_type": "markdown",
   "metadata": {
    "colab_type": "text",
    "id": "SGZoVCxvTd9J"
   },
   "source": [
    "15. Carilah ada berapa kata 'gandalf' di dalam teks berikut. (tidak case sensitive)"
   ]
  },
  {
   "cell_type": "code",
   "execution_count": 3,
   "metadata": {
    "colab": {},
    "colab_type": "code",
    "id": "Phdw2URbTd9J"
   },
   "outputs": [],
   "source": [
    "teks = \"Centuries later, during the War of the Ring, Gandalf leads Aragorn, Legolas, Gimli, and King Théoden to Isengard, \\\n",
    "        where they reunite with Merry and Pippin. Gandalf retrieves the defeated Saruman's palantír. Pippin later looks  \\\n",
    "        into the seeing-stone and is seen by Sauron. From Pippin's description of his visions, Gandalf surmises that Sauron \\\n",
    "        will attack Gondor's capital Minas Tirith. He rides there to warn Gondor's steward Denethor, taking Pippin with him.\"\n",
    "\n",
    "# kode anda\n",
    "jawaban_15 = #Tulis jawaban akhir anda disini"
   ]
  },
  {
   "cell_type": "code",
   "execution_count": null,
   "metadata": {},
   "outputs": [],
   "source": []
  }
 ],
 "metadata": {
  "colab": {
   "collapsed_sections": [],
   "name": "Tugas1.ipynb",
   "provenance": []
  },
  "kernelspec": {
   "display_name": "Python 3",
   "language": "python",
   "name": "python3"
  },
  "language_info": {
   "codemirror_mode": {
    "name": "ipython",
    "version": 3
   },
   "file_extension": ".py",
   "mimetype": "text/x-python",
   "name": "python",
   "nbconvert_exporter": "python",
   "pygments_lexer": "ipython3",
   "version": "3.7.6"
  }
 },
 "nbformat": 4,
 "nbformat_minor": 1
}
