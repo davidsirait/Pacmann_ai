{
 "cells": [
  {
   "cell_type": "markdown",
   "metadata": {},
   "source": [
    "# Tugas Python 1\n",
    "\n",
    "* Silakan download dan kerjakan soal berikut dimanapun (laptop pribadi/google colab/etc.)\n",
    "* Setelah selesai mengerjakan, upload file ini di tempat yang telah disediakan pada platform.\n",
    "* Beri nama file seperti berikut: {username}-python-1.ipynb\n",
    "* Contoh: johndoe1-python-1.ipynb\n",
    "* Username dapat dilihat di dalam akun anda.\n",
    "* Mohon jangan mengubah nama variabel yang telah diberikan.\n",
    "* Namun anda diperbolehkan untuk menambah variabel apapun.\n",
    "---"
   ]
  },
  {
   "cell_type": "markdown",
   "metadata": {},
   "source": [
    "1. Hitunglah $5+5$"
   ]
  },
  {
   "cell_type": "code",
   "execution_count": 1,
   "metadata": {},
   "outputs": [
    {
     "name": "stdout",
     "output_type": "stream",
     "text": [
      "10\n"
     ]
    }
   ],
   "source": [
    "jawaban_1 = 5+5\n",
    "print(jawaban_1)"
   ]
  },
  {
   "cell_type": "markdown",
   "metadata": {},
   "source": [
    "2. Hitunglah $2^{10}$"
   ]
  },
  {
   "cell_type": "code",
   "execution_count": 2,
   "metadata": {},
   "outputs": [
    {
     "name": "stdout",
     "output_type": "stream",
     "text": [
      "1024\n"
     ]
    }
   ],
   "source": [
    "jawaban_2 = 2**10 #Tulis jawaban akhir disini\n",
    "print(jawaban_2)"
   ]
  },
  {
   "cell_type": "markdown",
   "metadata": {},
   "source": [
    "3. Buatlah sebuah string yang berisi nama anda."
   ]
  },
  {
   "cell_type": "code",
   "execution_count": 3,
   "metadata": {},
   "outputs": [
    {
     "name": "stdout",
     "output_type": "stream",
     "text": [
      "Joni\n"
     ]
    }
   ],
   "source": [
    "jawaban_3 = \"Joni\" #Tulis jawaban akhir disini\n",
    "print(jawaban_3)"
   ]
  },
  {
   "cell_type": "markdown",
   "metadata": {},
   "source": [
    "4. Ubahlah string berikut menjadi sebuah nilai integer"
   ]
  },
  {
   "cell_type": "code",
   "execution_count": 4,
   "metadata": {},
   "outputs": [
    {
     "data": {
      "text/plain": [
       "int"
      ]
     },
     "execution_count": 4,
     "metadata": {},
     "output_type": "execute_result"
    }
   ],
   "source": [
    "angka = \"1945\"\n",
    "jawaban_4 = int(angka) #Tulis jawaban akhir disini\n",
    "type(jawaban_4)"
   ]
  },
  {
   "cell_type": "markdown",
   "metadata": {},
   "source": [
    "5. Ubahlah float berikut menjadi sebuah string"
   ]
  },
  {
   "cell_type": "code",
   "execution_count": 5,
   "metadata": {},
   "outputs": [
    {
     "data": {
      "text/plain": [
       "str"
      ]
     },
     "execution_count": 5,
     "metadata": {},
     "output_type": "execute_result"
    }
   ],
   "source": [
    "pi = 3.14159265359\n",
    "jawaban_5 = str(pi) #Tulis jawaban akhir disini\n",
    "type(jawaban_5)"
   ]
  },
  {
   "cell_type": "markdown",
   "metadata": {},
   "source": [
    "6. Ambillah karakter pertama dari string berikut"
   ]
  },
  {
   "cell_type": "code",
   "execution_count": 6,
   "metadata": {},
   "outputs": [
    {
     "name": "stdout",
     "output_type": "stream",
     "text": [
      "p\n"
     ]
    }
   ],
   "source": [
    "teks = \"pacmann\"\n",
    "jawaban_6 = teks[0] #Tulis jawaban akhir disini\n",
    "print(jawaban_6)"
   ]
  },
  {
   "cell_type": "markdown",
   "metadata": {},
   "source": [
    "7. Ambillah karakter terakhir dari string berikut."
   ]
  },
  {
   "cell_type": "code",
   "execution_count": 7,
   "metadata": {},
   "outputs": [
    {
     "name": "stdout",
     "output_type": "stream",
     "text": [
      "n\n"
     ]
    }
   ],
   "source": [
    "teks = \"pacmann\"\n",
    "jawaban_7 = teks[-1] #Tulis jawaban akhir disini\n",
    "print(jawaban_7)"
   ]
  },
  {
   "cell_type": "markdown",
   "metadata": {},
   "source": [
    "8. Ambillah 4 karakter pertama dari string berikut dengan menggunakan slicing!"
   ]
  },
  {
   "cell_type": "code",
   "execution_count": 8,
   "metadata": {},
   "outputs": [
    {
     "name": "stdout",
     "output_type": "stream",
     "text": [
      "bang\n"
     ]
    }
   ],
   "source": [
    "teks = \"bangunan\"\n",
    "jawaban_8 = teks[:4]#Tulis jawaban akhir disini\n",
    "print(jawaban_8)"
   ]
  },
  {
   "cell_type": "markdown",
   "metadata": {},
   "source": [
    "9. Tono memiliki 4 kelereng, Budi memiliki 5 kelereng. Berapakah total jumlah kelereng yang dimiliki mereka berdua?"
   ]
  },
  {
   "cell_type": "code",
   "execution_count": 9,
   "metadata": {},
   "outputs": [
    {
     "name": "stdout",
     "output_type": "stream",
     "text": [
      "9\n"
     ]
    }
   ],
   "source": [
    "jawaban_9 = 4+5 #Tulis jawaban akhir disini\n",
    "print(jawaban_9)"
   ]
  },
  {
   "cell_type": "markdown",
   "metadata": {},
   "source": [
    "10. Budi memiliki 10 lemper, dan Budi membagikan 10 lemper yang dimilikinya kepada 5 orang temannya secara rata. Berapa lemper yang diterima oleh masing-masing teman budi?"
   ]
  },
  {
   "cell_type": "code",
   "execution_count": 10,
   "metadata": {},
   "outputs": [
    {
     "name": "stdout",
     "output_type": "stream",
     "text": [
      "2.0\n"
     ]
    }
   ],
   "source": [
    "jawaban_10 = 10/5 #Tulis jawaban akhir disini\n",
    "print(jawaban_10)"
   ]
  },
  {
   "cell_type": "markdown",
   "metadata": {},
   "source": [
    "11. Hitunglah nilai dari operasi matematik berikut $\\left(\\frac{3*8}{4}\\right) + (4*5)$"
   ]
  },
  {
   "cell_type": "code",
   "execution_count": 11,
   "metadata": {},
   "outputs": [
    {
     "name": "stdout",
     "output_type": "stream",
     "text": [
      "26.0\n"
     ]
    }
   ],
   "source": [
    "jawaban_11 = ((3*8)/4) + (4*5) #Tulis jawaban akhir anda disini\n",
    "print(jawaban_11)"
   ]
  },
  {
   "cell_type": "markdown",
   "metadata": {},
   "source": [
    "12. Lala sedang berbelanja barang di supermarket, dengan harga terlampir di bawah ini. Lala membeli 1 potong ayam, 4 ekor ikan kembung, 3 ikat kangkung, dan 2 botol susu. Lalu Lala mendapat diskon sebesar 25% dari total harga yang dibayarkan \n",
    "\n",
    "    Tuliskan biaya yang harus dibayar Adi sebagai operasi di bawah ini dan jalankan perhitungannya.\n",
    "\n",
    "| barang      | harga  |\n",
    "|-------------|--------|\n",
    "| ayam        | 20000  |\n",
    "| ikan kembung| 15000 |\n",
    "| sayur kangkung | 10000  |\n",
    "| susu        | 22000  |"
   ]
  },
  {
   "cell_type": "code",
   "execution_count": 12,
   "metadata": {},
   "outputs": [
    {
     "name": "stdout",
     "output_type": "stream",
     "text": [
      "115500.0\n"
     ]
    }
   ],
   "source": [
    "# Anda bisa menuliskan kode apapun disini\n",
    "ayam = 20000\n",
    "ikan = 15000\n",
    "sayur = 10000\n",
    "susu = 22000\n",
    "jawaban_12 = (1-0.25) * (1*ayam + 4*ikan + 3*sayur + 2*susu) #Tulis jawaban akhir anda disini\n",
    "print(jawaban_12)"
   ]
  },
  {
   "cell_type": "markdown",
   "metadata": {},
   "source": [
    "13. Surti, remaja anak bapak kades dan si Tejo, jejaka yang baru saja mudik berencana untuk menikah 2 tahun dari sekarang. Jika biaya pernikahan dan resepsi di kampung mereka adalah 48.000.000, berapa uang yang harus ditabung mereka berdua per bulannya agar 2 tahun lagi mereka bisa menikah?\n",
    "\n",
    "    asumsi: tidak ada inflasi, dan semua harga selalu konstan."
   ]
  },
  {
   "cell_type": "code",
   "execution_count": 13,
   "metadata": {},
   "outputs": [
    {
     "name": "stdout",
     "output_type": "stream",
     "text": [
      "2000000.0\n"
     ]
    }
   ],
   "source": [
    "biaya = 48000000\n",
    "bulan = 2 * 12\n",
    "jawaban_13 = biaya/bulan #Tulis jawaban akhir anda disini\n",
    "print(jawaban_13)"
   ]
  },
  {
   "cell_type": "markdown",
   "metadata": {},
   "source": [
    "14. Sebuah bioskop ingin memutar film dan menampilkan judul film tersebut di website mereka. Namun judul film tersebut semuanya memakai huruf kecil. Bantulah bioskop tersebut"
   ]
  },
  {
   "cell_type": "code",
   "execution_count": 14,
   "metadata": {},
   "outputs": [
    {
     "name": "stdout",
     "output_type": "stream",
     "text": [
      "The Lord Of The Rings: The Return Of The King\n"
     ]
    }
   ],
   "source": [
    "judul = 'the lord of the rings: the return of the king'\n",
    "jawaban_14 = judul.title() #Tulis jawaban akhir anda disini\n",
    "print(jawaban_14)"
   ]
  },
  {
   "cell_type": "markdown",
   "metadata": {},
   "source": [
    "15. Carilah ada berapa kata 'gandalf' di dalam teks berikut. (tidak case sensitive)"
   ]
  },
  {
   "cell_type": "code",
   "execution_count": 15,
   "metadata": {},
   "outputs": [
    {
     "name": "stdout",
     "output_type": "stream",
     "text": [
      "3\n"
     ]
    }
   ],
   "source": [
    "teks = \"Centuries later, during the War of the Ring, Gandalf leads Aragorn, Legolas, Gimli, and King Théoden to Isengard, \\\n",
    "        where they reunite with Merry and Pippin. Gandalf retrieves the defeated Saruman's palantír. Pippin later looks  \\\n",
    "        into the seeing-stone and is seen by Sauron. From Pippin's description of his visions, Gandalf surmises that Sauron \\\n",
    "        will attack Gondor's capital Minas Tirith. He rides there to warn Gondor's steward Denethor, taking Pippin with him.\"\n",
    "\n",
    "teks = teks.lower()\n",
    "jawaban_15 = teks.count('gandalf') #Tulis jawaban akhir anda disini\n",
    "print(jawaban_15)"
   ]
  },
  {
   "cell_type": "code",
   "execution_count": null,
   "metadata": {},
   "outputs": [],
   "source": []
  }
 ],
 "metadata": {
  "kernelspec": {
   "display_name": "Python 3",
   "language": "python",
   "name": "python3"
  },
  "language_info": {
   "codemirror_mode": {
    "name": "ipython",
    "version": 3
   },
   "file_extension": ".py",
   "mimetype": "text/x-python",
   "name": "python",
   "nbconvert_exporter": "python",
   "pygments_lexer": "ipython3",
   "version": "3.6.1"
  }
 },
 "nbformat": 4,
 "nbformat_minor": 4
}
